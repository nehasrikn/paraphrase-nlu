{
 "cells": [
  {
   "cell_type": "code",
   "execution_count": 1,
   "id": "21be96ba-28fd-4967-8b7b-46cbdfa08864",
   "metadata": {
    "execution": {
     "iopub.execute_input": "2025-05-09T20:23:00.842930Z",
     "iopub.status.busy": "2025-05-09T20:23:00.842658Z",
     "iopub.status.idle": "2025-05-09T20:23:00.874576Z",
     "shell.execute_reply": "2025-05-09T20:23:00.873725Z",
     "shell.execute_reply.started": "2025-05-09T20:23:00.842880Z"
    }
   },
   "outputs": [],
   "source": [
    "import os\n",
    "import sys\n",
    "\n",
    "module_path = os.path.abspath('.')\n",
    "if module_path not in sys.path:\n",
    "    sys.path.append(module_path)\n",
    "\n",
    "%load_ext autoreload\n",
    "%autoreload 2"
   ]
  },
  {
   "cell_type": "code",
   "execution_count": 2,
   "id": "0f0b5a2b-8cc2-468c-8e05-678be13cd977",
   "metadata": {
    "execution": {
     "iopub.execute_input": "2025-05-09T20:23:00.876538Z",
     "iopub.status.busy": "2025-05-09T20:23:00.876123Z",
     "iopub.status.idle": "2025-05-09T20:23:14.584946Z",
     "shell.execute_reply": "2025-05-09T20:23:14.583968Z",
     "shell.execute_reply.started": "2025-05-09T20:23:00.876472Z"
    }
   },
   "outputs": [],
   "source": [
    "from annotated_data.annotated_data import para_nlu\n",
    "from simple_colors import red, green, magenta, cyan, yellow"
   ]
  },
  {
   "cell_type": "markdown",
   "id": "2813b79e-1957-44b1-9367-e5e0901a996c",
   "metadata": {},
   "source": [
    "#### ParaNLU has 4 datasets built on both the abductive NLI (a-NLI) and defeasible NLI datasets. snli/atomic/social are the three splits of the defeasible dataset. "
   ]
  },
  {
   "cell_type": "code",
   "execution_count": 3,
   "id": "ac7d81e8-9c7f-47f5-a5b0-bf9a6f9924b2",
   "metadata": {
    "execution": {
     "iopub.execute_input": "2025-05-09T20:23:14.586616Z",
     "iopub.status.busy": "2025-05-09T20:23:14.586179Z",
     "iopub.status.idle": "2025-05-09T20:23:14.610946Z",
     "shell.execute_reply": "2025-05-09T20:23:14.610311Z",
     "shell.execute_reply.started": "2025-05-09T20:23:14.586590Z"
    }
   },
   "outputs": [
    {
     "name": "stdout",
     "output_type": "stream",
     "text": [
      "\u001b[31manli\u001b[0m has 250 original examples.\n",
      "random example \u001b[32manli.test.2214\u001b[0m has \u001b[35m7\u001b[0m paraphrase examples.\n",
      "\u001b[1;4;32mOriginal Example (anli.test.2214)\u001b[0m\n",
      "\u001b[32m  [Obs1]\u001b[0m Tori refused to eat broccoli.\n",
      "\u001b[32m  [Obs2]\u001b[0m She realized she loved it!\n",
      "\u001b[32m  [Hyp1]\u001b[0m Tori threw her broccoli on the floor.\n",
      "\u001b[32m  [Hyp2]\u001b[0m Tori's mom made her at least try it.\n",
      "\u001b[32m  [Label]\u001b[0m 2\n",
      "\u001b[32m  [Source Metadata]\u001b[0m {'story_id': 'e7f9b57f-c3ba-462b-b931-cd4162fddace-1'}\n",
      "\u001b[1;4;35mParaphrased Example\u001b[0m\n",
      "\u001b[35m  [Paraphrased ID]\u001b[0m anli.test.2214.38JBBYETQOA4ZZ2TGINA4N4ZZGD4EU.0\n",
      "\u001b[35m  [Paraphrased Hyp1]\u001b[0m Her broccoli was hurled to the floor by Tori. \n",
      "\u001b[35m  [Paraphrased Hyp2]\u001b[0m Mom of Tori insisted that she give it a shot. \n",
      "\u001b[35m  [Worker ID]\u001b[0m A2BA1S5LNDMNDQ\n",
      "==================================================================\n",
      "\u001b[31msnli\u001b[0m has 250 original examples.\n",
      "random example \u001b[32msnli.train.42841\u001b[0m has \u001b[35m6\u001b[0m paraphrase examples.\n",
      "\u001b[1;4;32mOriginal Example (snli.train.42841)\u001b[0m\n",
      "\u001b[32m  [Premise]\u001b[0m Young girl wearing two piece black bathing suit running in the water with a smile on her face.\n",
      "\u001b[32m  [Hypothesis]\u001b[0m She is happy because she enjoys spending time with her friends.\n",
      "\u001b[32m  [Update]\u001b[0m The girl is being cheered on\n",
      "\u001b[32m  [Label]\u001b[0m 1\n",
      "\u001b[32m  [Premise-Hypothesis ID]\u001b[0m snli.train.4475\n",
      "\u001b[32m  [Data Source]\u001b[0m snli\n",
      "\u001b[32m  [Source Metadata]\u001b[0m {'SNLIPairId': '147992532.jpg#0r1n'}\n",
      "\u001b[1;4;35mParaphrased Example\u001b[0m\n",
      "\u001b[35m  [Paraphrased ID]\u001b[0m snli.train.42841.3IOEN3P9S7JJULCVNILAU15JWQD161.2\n",
      "\u001b[35m  [Paraphrased Update]\u001b[0m People are expressing their support for the girl.\n",
      "\u001b[35m  [Worker ID]\u001b[0m AR7C4I782M1IS\n",
      "==================================================================\n",
      "\u001b[31matomic\u001b[0m has 250 original examples.\n",
      "random example \u001b[32matomic.train.10936\u001b[0m has \u001b[35m7\u001b[0m paraphrase examples.\n",
      "\u001b[1;4;32mOriginal Example (atomic.train.10936)\u001b[0m\n",
      "\u001b[32m  [Premise]\u001b[0m PersonX wears the shirt\n",
      "\u001b[32m  [Hypothesis]\u001b[0m As a result, PersonX wants looks in mirror\n",
      "\u001b[32m  [Update]\u001b[0m PersonX is very fat and ashamed\n",
      "\u001b[32m  [Label]\u001b[0m 0\n",
      "\u001b[32m  [Premise-Hypothesis ID]\u001b[0m atomic.train.5147\n",
      "\u001b[32m  [Data Source]\u001b[0m atomic\n",
      "\u001b[32m  [Source Metadata]\u001b[0m {'AtomicEventId': 'GMtvVquMXLAJnzWp8uiGTA==', 'AtomicEventRelationId': 'JAgTP2huPJ3AeWfHD6nRLQ==', 'AtomicRelationType': 'xWant', 'AtomicInference': 'looks in mirror'}\n",
      "\u001b[1;4;35mParaphrased Example\u001b[0m\n",
      "\u001b[35m  [Paraphrased ID]\u001b[0m atomic.train.10936.3PH3VY7DJLXEJWC9MB76KPO8YALZWY.2\n",
      "\u001b[35m  [Paraphrased Update]\u001b[0m PersonX is heavily overweight and self-conscious\n",
      "\u001b[35m  [Worker ID]\u001b[0m A303YCOB4FUJ2G\n",
      "==================================================================\n",
      "\u001b[31msocial\u001b[0m has 250 original examples.\n",
      "random example \u001b[32msocial.train.34744\u001b[0m has \u001b[35m8\u001b[0m paraphrase examples.\n",
      "\u001b[1;4;32mOriginal Example (social.train.34744)\u001b[0m\n",
      "\u001b[32m  [Premise]\u001b[0m \n",
      "\u001b[32m  [Hypothesis]\u001b[0m It's important to give proper notice when you are leaving your job.\n",
      "\u001b[32m  [Update]\u001b[0m Your position is being eliminated.\n",
      "\u001b[32m  [Label]\u001b[0m 0\n",
      "\u001b[32m  [Premise-Hypothesis ID]\u001b[0m social.train.3453\n",
      "\u001b[32m  [Data Source]\u001b[0m social-chem-101\n",
      "\u001b[32m  [Source Metadata]\u001b[0m {'SocialChemSituationUID': 'reddit/amitheasshole/aqwieo/cleaned', 'SocialChemSituation': 'quitting my job as a nurse', 'SocialChemROT': \"It's important to give proper notice when you are leaving your job.\"}\n",
      "\u001b[1;4;35mParaphrased Example\u001b[0m\n",
      "\u001b[35m  [Paraphrased ID]\u001b[0m social.train.34744.3BQU611VFPKO19HOP23FTHE4SIE990.1\n",
      "\u001b[35m  [Paraphrased Update]\u001b[0m The role you held is being deleted\n",
      "\u001b[35m  [Worker ID]\u001b[0m A3KIVM5Z0CVLAQ\n",
      "==================================================================\n"
     ]
    }
   ],
   "source": [
    "import random\n",
    "\n",
    "for dataset_source, para_nlu_dataset in para_nlu.items():\n",
    "    print(f'{red(dataset_source)} has {len(para_nlu_dataset)} original examples.')\n",
    "\n",
    "    # choose random original example\n",
    "    source_example_id = random.choice(list(para_nlu_dataset.keys()))\n",
    "    paraphrased_examples = para_nlu_dataset[source_example_id]\n",
    "\n",
    "    print(f'random example {green(source_example_id)} has {magenta(len(paraphrased_examples))} paraphrase examples.')\n",
    "\n",
    "    # each paraphrased example is of type ParaphrasedDefeasibleNLIExample or ParaphrasedAbductiveNLIExample\n",
    "    paraphrased_examples[0].display(display_original_example=True)\n",
    "\n",
    "    print('==================================================================')\n",
    "    "
   ]
  }
 ],
 "metadata": {
  "kernelspec": {
   "display_name": "para-nlu",
   "language": "python",
   "name": "para-nlu"
  },
  "language_info": {
   "codemirror_mode": {
    "name": "ipython",
    "version": 3
   },
   "file_extension": ".py",
   "mimetype": "text/x-python",
   "name": "python",
   "nbconvert_exporter": "python",
   "pygments_lexer": "ipython3",
   "version": "3.8.13"
  }
 },
 "nbformat": 4,
 "nbformat_minor": 5
}
